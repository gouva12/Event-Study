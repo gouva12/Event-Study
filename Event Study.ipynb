{
 "cells": [
  {
   "cell_type": "markdown",
   "metadata": {},
   "source": [
    "# Event Study Framework: Computing CAPM Adjusted Returns"
   ]
  },
  {
   "cell_type": "markdown",
   "metadata": {},
   "source": [
    "In this notebook I'll present a framework to perform an event study using CAPM adjusted returns: 1 event, several firms\n",
    "\n",
    "1. Extractions   \n",
    "\n",
    "    1.1 FF factors   \n",
    "    1.2 Stock Returns    \n",
    "    \n",
    "    \n",
    "2. Computing the abnormal and cumulative abnormal returns"
   ]
  },
  {
   "cell_type": "code",
   "execution_count": 1,
   "metadata": {},
   "outputs": [],
   "source": [
    "import pandas as pd\n",
    "import numpy as np\n",
    "from sklearn import linear_model #running linear regressions\n",
    "import statsmodels.api as sm #to run regressions\n",
    "import pandas_datareader as web #to download prices from Yahoo Finance\n",
    "import urllib.request #to extract FF factors\n",
    "import zipfile #to unzip files\n",
    "import datetime #to work with the dates"
   ]
  },
  {
   "cell_type": "markdown",
   "metadata": {},
   "source": [
    "Let's start by defining the event window. In this section, I'll consider one event only, that may affect several firms.\n",
    "\n",
    "If you want to study several events (such as M&A announcements), you may skip to section 2"
   ]
  },
  {
   "cell_type": "code",
   "execution_count": 2,
   "metadata": {},
   "outputs": [],
   "source": [
    "event_date = datetime.datetime.strptime(\"2020-02-03\",'%Y-%m-%d') #choose the date of your event"
   ]
  },
  {
   "cell_type": "markdown",
   "metadata": {},
   "source": [
    "### 1. Extractions"
   ]
  },
  {
   "cell_type": "markdown",
   "metadata": {},
   "source": [
    "#### 1.1 Extracting FF factors"
   ]
  },
  {
   "cell_type": "code",
   "execution_count": 3,
   "metadata": {},
   "outputs": [],
   "source": [
    "def get_fama_french():\n",
    "    # Web url\n",
    "    ff_url = \"https://mba.tuck.dartmouth.edu/pages/faculty/ken.french/ftp/F-F_Research_Data_Factors_daily_CSV.zip\"\n",
    "    \n",
    "    # Download the file and save it\n",
    "    # We will name it fama_french.zip file\n",
    "    \n",
    "    urllib.request.urlretrieve(ff_url,'fama_french.zip')\n",
    "    zip_file = zipfile.ZipFile('fama_french.zip', 'r')\n",
    "    \n",
    "    # Next we extact the file data\n",
    "    \n",
    "    zip_file.extractall()\n",
    "    \n",
    "    # Make sure you close the file after extraction\n",
    "    \n",
    "    zip_file.close()\n",
    "    \n",
    "    # Now open the CSV file\n",
    "    \n",
    "    ff_factors = pd.read_csv('F-F_Research_Data_Factors_daily.csv', skiprows = 3, index_col = 0)\n",
    "    # We want to find out the row with NULL value\n",
    "    # We will skip these rows\n",
    "    \n",
    "    ff_row = ff_factors.isnull().any(1).nonzero()[0][0]\n",
    "    \n",
    "    # Read the csv file again with skipped rows\n",
    "    ff_factors = pd.read_csv('F-F_Research_Data_Factors_daily.csv', skiprows = 3, nrows = ff_row, index_col = 0)\n",
    "    \n",
    "    # Format the date index\n",
    "    ff_factors.index = pd.to_datetime(ff_factors.index, format= '%Y%m%d')\n",
    "    \n",
    "    \n",
    "    # Convert from percent to decimal\n",
    "    ff_factors = ff_factors.apply(lambda x: x/ 100)\n",
    "    return ff_factors"
   ]
  },
  {
   "cell_type": "code",
   "execution_count": 4,
   "metadata": {},
   "outputs": [
    {
     "data": {
      "text/html": [
       "<div>\n",
       "<style scoped>\n",
       "    .dataframe tbody tr th:only-of-type {\n",
       "        vertical-align: middle;\n",
       "    }\n",
       "\n",
       "    .dataframe tbody tr th {\n",
       "        vertical-align: top;\n",
       "    }\n",
       "\n",
       "    .dataframe thead th {\n",
       "        text-align: right;\n",
       "    }\n",
       "</style>\n",
       "<table border=\"1\" class=\"dataframe\">\n",
       "  <thead>\n",
       "    <tr style=\"text-align: right;\">\n",
       "      <th></th>\n",
       "      <th>Mkt-RF</th>\n",
       "      <th>SMB</th>\n",
       "      <th>HML</th>\n",
       "      <th>RF</th>\n",
       "    </tr>\n",
       "  </thead>\n",
       "  <tbody>\n",
       "    <tr>\n",
       "      <th>1926-07-01</th>\n",
       "      <td>0.0010</td>\n",
       "      <td>-0.0024</td>\n",
       "      <td>-0.0028</td>\n",
       "      <td>0.00009</td>\n",
       "    </tr>\n",
       "    <tr>\n",
       "      <th>1926-07-02</th>\n",
       "      <td>0.0045</td>\n",
       "      <td>-0.0032</td>\n",
       "      <td>-0.0008</td>\n",
       "      <td>0.00009</td>\n",
       "    </tr>\n",
       "    <tr>\n",
       "      <th>1926-07-06</th>\n",
       "      <td>0.0017</td>\n",
       "      <td>0.0027</td>\n",
       "      <td>-0.0035</td>\n",
       "      <td>0.00009</td>\n",
       "    </tr>\n",
       "    <tr>\n",
       "      <th>1926-07-07</th>\n",
       "      <td>0.0009</td>\n",
       "      <td>-0.0059</td>\n",
       "      <td>0.0003</td>\n",
       "      <td>0.00009</td>\n",
       "    </tr>\n",
       "    <tr>\n",
       "      <th>1926-07-08</th>\n",
       "      <td>0.0021</td>\n",
       "      <td>-0.0036</td>\n",
       "      <td>0.0015</td>\n",
       "      <td>0.00009</td>\n",
       "    </tr>\n",
       "  </tbody>\n",
       "</table>\n",
       "</div>"
      ],
      "text/plain": [
       "            Mkt-RF     SMB     HML       RF\n",
       "1926-07-01  0.0010 -0.0024 -0.0028  0.00009\n",
       "1926-07-02  0.0045 -0.0032 -0.0008  0.00009\n",
       "1926-07-06  0.0017  0.0027 -0.0035  0.00009\n",
       "1926-07-07  0.0009 -0.0059  0.0003  0.00009\n",
       "1926-07-08  0.0021 -0.0036  0.0015  0.00009"
      ]
     },
     "execution_count": 4,
     "metadata": {},
     "output_type": "execute_result"
    }
   ],
   "source": [
    "#Let's see if it worked:\n",
    "get_fama_french().head()"
   ]
  },
  {
   "cell_type": "code",
   "execution_count": 5,
   "metadata": {},
   "outputs": [],
   "source": [
    "#let's save it to a dataframe (we just need the rf and the Mkt-RF for the CAPM)\n",
    "ff = get_fama_french().loc[:,['Mkt-RF', 'RF']]"
   ]
  },
  {
   "cell_type": "markdown",
   "metadata": {},
   "source": [
    "#### 1.2 Extracting Stock Returns"
   ]
  },
  {
   "cell_type": "code",
   "execution_count": 6,
   "metadata": {},
   "outputs": [
    {
     "data": {
      "text/html": [
       "<div>\n",
       "<style scoped>\n",
       "    .dataframe tbody tr th:only-of-type {\n",
       "        vertical-align: middle;\n",
       "    }\n",
       "\n",
       "    .dataframe tbody tr th {\n",
       "        vertical-align: top;\n",
       "    }\n",
       "\n",
       "    .dataframe thead th {\n",
       "        text-align: right;\n",
       "    }\n",
       "</style>\n",
       "<table border=\"1\" class=\"dataframe\">\n",
       "  <thead>\n",
       "    <tr style=\"text-align: right;\">\n",
       "      <th></th>\n",
       "      <th>AAPL</th>\n",
       "      <th>MSFT</th>\n",
       "      <th>GOOGL</th>\n",
       "    </tr>\n",
       "    <tr>\n",
       "      <th>Date</th>\n",
       "      <th></th>\n",
       "      <th></th>\n",
       "      <th></th>\n",
       "    </tr>\n",
       "  </thead>\n",
       "  <tbody>\n",
       "    <tr>\n",
       "      <th>2019-01-03</th>\n",
       "      <td>-0.099607</td>\n",
       "      <td>-0.036788</td>\n",
       "      <td>-0.027696</td>\n",
       "    </tr>\n",
       "    <tr>\n",
       "      <th>2019-01-04</th>\n",
       "      <td>0.042689</td>\n",
       "      <td>0.046509</td>\n",
       "      <td>0.051294</td>\n",
       "    </tr>\n",
       "    <tr>\n",
       "      <th>2019-01-07</th>\n",
       "      <td>-0.002226</td>\n",
       "      <td>0.001275</td>\n",
       "      <td>-0.001994</td>\n",
       "    </tr>\n",
       "    <tr>\n",
       "      <th>2019-01-08</th>\n",
       "      <td>0.019063</td>\n",
       "      <td>0.007251</td>\n",
       "      <td>0.008783</td>\n",
       "    </tr>\n",
       "    <tr>\n",
       "      <th>2019-01-09</th>\n",
       "      <td>0.016982</td>\n",
       "      <td>0.014300</td>\n",
       "      <td>-0.003427</td>\n",
       "    </tr>\n",
       "  </tbody>\n",
       "</table>\n",
       "</div>"
      ],
      "text/plain": [
       "                AAPL      MSFT     GOOGL\n",
       "Date                                    \n",
       "2019-01-03 -0.099607 -0.036788 -0.027696\n",
       "2019-01-04  0.042689  0.046509  0.051294\n",
       "2019-01-07 -0.002226  0.001275 -0.001994\n",
       "2019-01-08  0.019063  0.007251  0.008783\n",
       "2019-01-09  0.016982  0.014300 -0.003427"
      ]
     },
     "execution_count": 6,
     "metadata": {},
     "output_type": "execute_result"
    }
   ],
   "source": [
    "#list of firms we want to study:\n",
    "firms = ['AAPL', 'MSFT', 'GOOGL']\n",
    "\n",
    "#setting a start date and end date - according to the period you want to study\n",
    "start_date = '01-01-2019'\n",
    "end_date = '03-02-2020'\n",
    "\n",
    "returns= pd.DataFrame()\n",
    "for firm in firms:\n",
    "    returns[firm] = web.get_data_yahoo(firm, start_date, end_date)['Adj Close'] #extracting prices\n",
    "\n",
    "returns = returns.pct_change()[1:] #turning prices into returns\n",
    "\n",
    "returns.head()"
   ]
  },
  {
   "cell_type": "code",
   "execution_count": 7,
   "metadata": {},
   "outputs": [
    {
     "data": {
      "text/html": [
       "<div>\n",
       "<style scoped>\n",
       "    .dataframe tbody tr th:only-of-type {\n",
       "        vertical-align: middle;\n",
       "    }\n",
       "\n",
       "    .dataframe tbody tr th {\n",
       "        vertical-align: top;\n",
       "    }\n",
       "\n",
       "    .dataframe thead th {\n",
       "        text-align: right;\n",
       "    }\n",
       "</style>\n",
       "<table border=\"1\" class=\"dataframe\">\n",
       "  <thead>\n",
       "    <tr style=\"text-align: right;\">\n",
       "      <th></th>\n",
       "      <th>AAPL</th>\n",
       "      <th>MSFT</th>\n",
       "      <th>GOOGL</th>\n",
       "      <th>Mkt-RF</th>\n",
       "      <th>RF</th>\n",
       "    </tr>\n",
       "  </thead>\n",
       "  <tbody>\n",
       "    <tr>\n",
       "      <th>2019-01-03</th>\n",
       "      <td>-0.099607</td>\n",
       "      <td>-0.036788</td>\n",
       "      <td>-0.027696</td>\n",
       "      <td>-0.0245</td>\n",
       "      <td>0.0001</td>\n",
       "    </tr>\n",
       "    <tr>\n",
       "      <th>2019-01-04</th>\n",
       "      <td>0.042689</td>\n",
       "      <td>0.046509</td>\n",
       "      <td>0.051294</td>\n",
       "      <td>0.0355</td>\n",
       "      <td>0.0001</td>\n",
       "    </tr>\n",
       "    <tr>\n",
       "      <th>2019-01-07</th>\n",
       "      <td>-0.002226</td>\n",
       "      <td>0.001275</td>\n",
       "      <td>-0.001994</td>\n",
       "      <td>0.0094</td>\n",
       "      <td>0.0001</td>\n",
       "    </tr>\n",
       "    <tr>\n",
       "      <th>2019-01-08</th>\n",
       "      <td>0.019063</td>\n",
       "      <td>0.007251</td>\n",
       "      <td>0.008783</td>\n",
       "      <td>0.0101</td>\n",
       "      <td>0.0001</td>\n",
       "    </tr>\n",
       "    <tr>\n",
       "      <th>2019-01-09</th>\n",
       "      <td>0.016982</td>\n",
       "      <td>0.014300</td>\n",
       "      <td>-0.003427</td>\n",
       "      <td>0.0056</td>\n",
       "      <td>0.0001</td>\n",
       "    </tr>\n",
       "  </tbody>\n",
       "</table>\n",
       "</div>"
      ],
      "text/plain": [
       "                AAPL      MSFT     GOOGL  Mkt-RF      RF\n",
       "2019-01-03 -0.099607 -0.036788 -0.027696 -0.0245  0.0001\n",
       "2019-01-04  0.042689  0.046509  0.051294  0.0355  0.0001\n",
       "2019-01-07 -0.002226  0.001275 -0.001994  0.0094  0.0001\n",
       "2019-01-08  0.019063  0.007251  0.008783  0.0101  0.0001\n",
       "2019-01-09  0.016982  0.014300 -0.003427  0.0056  0.0001"
      ]
     },
     "execution_count": 7,
     "metadata": {},
     "output_type": "execute_result"
    }
   ],
   "source": [
    "#Merging FF and stock returns, with the dates of the stock returns\n",
    "all_returns = pd.merge(pd.DataFrame(returns),ff, how = 'inner', left_index= True, right_index= True)\n",
    "all_returns.head()"
   ]
  },
  {
   "cell_type": "markdown",
   "metadata": {},
   "source": [
    "### 2. Abnornal Returns\n",
    "\n",
    "We may think of abnormal returns as the difference between the expected normal returns (in case the event did not occur) and the actual returns during the event. \n",
    "\n",
    "The expected normal returns can be estimated through a historical returns window - defined as the __estimation window__. \n",
    "\n",
    "The estimations are made for the period we want to study the impact of the event - it may include days before and after the event - this is defined as the __event window__. \n",
    "\n",
    "The picture below shows an example of a framework for event and estimation windows:\n",
    "\n",
    "\n",
    "![title](https://drive.google.com/uc?id=1BFPOfg7bj-fMolTxqLXwQM0SnzBQnA1B)\n",
    "\n",
    "We will be running CAPM adjusted returns, hence the estimation window will solely be used to estimate the betas (systematic risk). Once that is done, the abnormal returns are computed according to the formula below:\n",
    "\n",
    "Abnormal Return = Actual Return - (rf + B*(Mkt - rf))\n",
    "\n",
    "The rf is the return of the riskless asset, and the Mkt are the market returns - both extracted from Kenneth French website"
   ]
  },
  {
   "cell_type": "code",
   "execution_count": 8,
   "metadata": {},
   "outputs": [],
   "source": [
    "#Defining the Estimation Window: \n",
    "date_first = event_date + datetime.timedelta(days=-252-14) #one year and 14 trading days (20 atual days) before the event\n",
    "date_last = event_date + datetime.timedelta(days=-14) #14 trading days before the event\n",
    "\n",
    "#dataframe for abnormal returns:\n",
    "ar = pd.DataFrame(index = firms)\n",
    "ar['returns'] = returns.loc[event_date]\n",
    "\n",
    "#Computing the betas:\n",
    "betas = list()\n",
    "for firm in firms:\n",
    "    betas.append(sm.OLS(endog= all_returns.loc[date_first:date_last, firm], exog = all_returns.loc[date_first:date_last, 'Mkt-RF']).fit().params[0])\n",
    "ar['betas'] = pd.DataFrame(betas, index= firms)"
   ]
  },
  {
   "cell_type": "markdown",
   "metadata": {},
   "source": [
    "##### Computing Abnormal Returns on a one-day event window:"
   ]
  },
  {
   "cell_type": "code",
   "execution_count": 9,
   "metadata": {},
   "outputs": [],
   "source": [
    "#Computing Abnormal returns\n",
    "#1 day event window\n",
    "ar['abnormal_1d'] = ar['returns'] - (all_returns.loc[event_date, 'RF'] + ar['betas']*all_returns.loc[event_date,'Mkt-RF'])"
   ]
  },
  {
   "cell_type": "code",
   "execution_count": 10,
   "metadata": {},
   "outputs": [
    {
     "data": {
      "text/html": [
       "<div>\n",
       "<style scoped>\n",
       "    .dataframe tbody tr th:only-of-type {\n",
       "        vertical-align: middle;\n",
       "    }\n",
       "\n",
       "    .dataframe tbody tr th {\n",
       "        vertical-align: top;\n",
       "    }\n",
       "\n",
       "    .dataframe thead th {\n",
       "        text-align: right;\n",
       "    }\n",
       "</style>\n",
       "<table border=\"1\" class=\"dataframe\">\n",
       "  <thead>\n",
       "    <tr style=\"text-align: right;\">\n",
       "      <th></th>\n",
       "      <th>returns</th>\n",
       "      <th>betas</th>\n",
       "      <th>abnormal_1d</th>\n",
       "    </tr>\n",
       "  </thead>\n",
       "  <tbody>\n",
       "    <tr>\n",
       "      <th>AAPL</th>\n",
       "      <td>-0.002746</td>\n",
       "      <td>1.485370</td>\n",
       "      <td>-0.015283</td>\n",
       "    </tr>\n",
       "    <tr>\n",
       "      <th>MSFT</th>\n",
       "      <td>0.024379</td>\n",
       "      <td>1.227141</td>\n",
       "      <td>0.014011</td>\n",
       "    </tr>\n",
       "    <tr>\n",
       "      <th>GOOGL</th>\n",
       "      <td>0.034772</td>\n",
       "      <td>1.218885</td>\n",
       "      <td>0.024473</td>\n",
       "    </tr>\n",
       "  </tbody>\n",
       "</table>\n",
       "</div>"
      ],
      "text/plain": [
       "        returns     betas  abnormal_1d\n",
       "AAPL  -0.002746  1.485370    -0.015283\n",
       "MSFT   0.024379  1.227141     0.014011\n",
       "GOOGL  0.034772  1.218885     0.024473"
      ]
     },
     "execution_count": 10,
     "metadata": {},
     "output_type": "execute_result"
    }
   ],
   "source": [
    "ar"
   ]
  },
  {
   "cell_type": "markdown",
   "metadata": {},
   "source": [
    "##### Computing cumulative abnormal returns   \n",
    "Ex: 5 days event window: -2 and +2 days from the date of the event"
   ]
  },
  {
   "cell_type": "code",
   "execution_count": 11,
   "metadata": {},
   "outputs": [],
   "source": [
    "#defining the days: -2 and +2 on the event day:\n",
    "minus_2 = event_date + datetime.timedelta(days = -2)\n",
    "plus_2 = event_date + datetime.timedelta(days = +2)\n",
    "\n",
    "five_days_returns = list() #creating list to append the sum of the returns on the 5 days windows, on each firm\n",
    "for firm in firms:\n",
    "    five_days_returns.append(sum(all_returns.loc[minus_2:plus_2,firm]))\n",
    "ar['returns_5d'] = pd.DataFrame(five_days_returns, index = firms) #inserting them in the dataframe\n",
    "\n",
    "#computing the five days cumulative abnormal returns:\n",
    "ar['abnormal_5d'] = ar['returns_5d'] - (sum(all_returns.loc[minus_2:plus_2,'RF']) + \\\n",
    "ar['betas']*sum(all_returns.loc[minus_2:plus_2, 'Mkt-RF']))"
   ]
  },
  {
   "cell_type": "code",
   "execution_count": 12,
   "metadata": {},
   "outputs": [
    {
     "data": {
      "text/html": [
       "<div>\n",
       "<style scoped>\n",
       "    .dataframe tbody tr th:only-of-type {\n",
       "        vertical-align: middle;\n",
       "    }\n",
       "\n",
       "    .dataframe tbody tr th {\n",
       "        vertical-align: top;\n",
       "    }\n",
       "\n",
       "    .dataframe thead th {\n",
       "        text-align: right;\n",
       "    }\n",
       "</style>\n",
       "<table border=\"1\" class=\"dataframe\">\n",
       "  <thead>\n",
       "    <tr style=\"text-align: right;\">\n",
       "      <th></th>\n",
       "      <th>returns</th>\n",
       "      <th>betas</th>\n",
       "      <th>abnormal_1d</th>\n",
       "      <th>returns_5d</th>\n",
       "      <th>abnormal_5d</th>\n",
       "    </tr>\n",
       "  </thead>\n",
       "  <tbody>\n",
       "    <tr>\n",
       "      <th>AAPL</th>\n",
       "      <td>-0.002746</td>\n",
       "      <td>1.485370</td>\n",
       "      <td>-0.015283</td>\n",
       "      <td>0.038422</td>\n",
       "      <td>-0.011964</td>\n",
       "    </tr>\n",
       "    <tr>\n",
       "      <th>MSFT</th>\n",
       "      <td>0.024379</td>\n",
       "      <td>1.227141</td>\n",
       "      <td>0.014011</td>\n",
       "      <td>0.056074</td>\n",
       "      <td>0.014417</td>\n",
       "    </tr>\n",
       "    <tr>\n",
       "      <th>GOOGL</th>\n",
       "      <td>0.034772</td>\n",
       "      <td>1.218885</td>\n",
       "      <td>0.024473</td>\n",
       "      <td>0.010130</td>\n",
       "      <td>-0.031248</td>\n",
       "    </tr>\n",
       "  </tbody>\n",
       "</table>\n",
       "</div>"
      ],
      "text/plain": [
       "        returns     betas  abnormal_1d  returns_5d  abnormal_5d\n",
       "AAPL  -0.002746  1.485370    -0.015283    0.038422    -0.011964\n",
       "MSFT   0.024379  1.227141     0.014011    0.056074     0.014417\n",
       "GOOGL  0.034772  1.218885     0.024473    0.010130    -0.031248"
      ]
     },
     "execution_count": 12,
     "metadata": {},
     "output_type": "execute_result"
    }
   ],
   "source": [
    "ar"
   ]
  },
  {
   "cell_type": "markdown",
   "metadata": {},
   "source": [
    "So, you have learned how to calculate (cumulative) abnormal returns for one specific event on several firms. Now you are ready to perform an event study, which you should regress these abnormal returns against some variables you want to study.  \n",
    "\n",
    "If you are interested in seeing some examples of event studies, you can start with this interesting [paper](https://www.hks.harvard.edu/sites/default/files/centers/mrcbg/files/Zeckhauser_final_2017-01.pdf) from AF Wagner, RJ Zeckhauser and A Ziegler, who study the impact of Donald Trump's election on tax and international trade, looking into stock market reactions"
   ]
  },
  {
   "cell_type": "code",
   "execution_count": null,
   "metadata": {},
   "outputs": [],
   "source": []
  }
 ],
 "metadata": {
  "kernelspec": {
   "display_name": "Python 3",
   "language": "python",
   "name": "python3"
  },
  "language_info": {
   "codemirror_mode": {
    "name": "ipython",
    "version": 3
   },
   "file_extension": ".py",
   "mimetype": "text/x-python",
   "name": "python",
   "nbconvert_exporter": "python",
   "pygments_lexer": "ipython3",
   "version": "3.7.9"
  }
 },
 "nbformat": 4,
 "nbformat_minor": 2
}
